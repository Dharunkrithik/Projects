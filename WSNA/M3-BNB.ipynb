{
 "cells": [
  {
   "cell_type": "markdown",
   "id": "f23cd813",
   "metadata": {},
   "source": [
    "# BERNOULLINB ALGORITHEM"
   ]
  },
  {
   "cell_type": "code",
   "execution_count": 1,
   "id": "c7ac72fa",
   "metadata": {},
   "outputs": [],
   "source": [
    "import pandas as pd\n",
    "import numpy as np\n",
    "import matplotlib.pyplot as plt\n",
    "import seaborn as sns\n",
    "\n",
    "import warnings\n",
    "warnings.filterwarnings('ignore')"
   ]
  },
  {
   "cell_type": "code",
   "execution_count": 2,
   "id": "efecb829",
   "metadata": {},
   "outputs": [
    {
     "data": {
      "text/html": [
       "<div>\n",
       "<style scoped>\n",
       "    .dataframe tbody tr th:only-of-type {\n",
       "        vertical-align: middle;\n",
       "    }\n",
       "\n",
       "    .dataframe tbody tr th {\n",
       "        vertical-align: top;\n",
       "    }\n",
       "\n",
       "    .dataframe thead th {\n",
       "        text-align: right;\n",
       "    }\n",
       "</style>\n",
       "<table border=\"1\" class=\"dataframe\">\n",
       "  <thead>\n",
       "    <tr style=\"text-align: right;\">\n",
       "      <th></th>\n",
       "      <th>id</th>\n",
       "      <th>Time</th>\n",
       "      <th>Is_CH</th>\n",
       "      <th>who_CH</th>\n",
       "      <th>Dist_To_CH</th>\n",
       "      <th>ADV_S</th>\n",
       "      <th>ADV_R</th>\n",
       "      <th>JOIN_S</th>\n",
       "      <th>JOIN_R</th>\n",
       "      <th>SCH_S</th>\n",
       "      <th>SCH_R</th>\n",
       "      <th>Rank</th>\n",
       "      <th>DATA_S</th>\n",
       "      <th>DATA_R</th>\n",
       "      <th>Data_Sent_To_BS</th>\n",
       "      <th>dist_CH_To_BS</th>\n",
       "      <th>send_code</th>\n",
       "      <th>Expaned_Energy</th>\n",
       "      <th>Attack_type</th>\n",
       "    </tr>\n",
       "  </thead>\n",
       "  <tbody>\n",
       "    <tr>\n",
       "      <th>0</th>\n",
       "      <td>101000</td>\n",
       "      <td>50</td>\n",
       "      <td>1</td>\n",
       "      <td>101000</td>\n",
       "      <td>0.00000</td>\n",
       "      <td>1</td>\n",
       "      <td>0</td>\n",
       "      <td>0</td>\n",
       "      <td>25</td>\n",
       "      <td>1</td>\n",
       "      <td>0</td>\n",
       "      <td>0</td>\n",
       "      <td>0</td>\n",
       "      <td>1200</td>\n",
       "      <td>48</td>\n",
       "      <td>130.08535</td>\n",
       "      <td>0</td>\n",
       "      <td>2.46940</td>\n",
       "      <td>Normal</td>\n",
       "    </tr>\n",
       "    <tr>\n",
       "      <th>1</th>\n",
       "      <td>101001</td>\n",
       "      <td>50</td>\n",
       "      <td>0</td>\n",
       "      <td>101044</td>\n",
       "      <td>75.32345</td>\n",
       "      <td>0</td>\n",
       "      <td>4</td>\n",
       "      <td>1</td>\n",
       "      <td>0</td>\n",
       "      <td>0</td>\n",
       "      <td>1</td>\n",
       "      <td>2</td>\n",
       "      <td>38</td>\n",
       "      <td>0</td>\n",
       "      <td>0</td>\n",
       "      <td>0.00000</td>\n",
       "      <td>4</td>\n",
       "      <td>0.06957</td>\n",
       "      <td>Normal</td>\n",
       "    </tr>\n",
       "    <tr>\n",
       "      <th>2</th>\n",
       "      <td>101002</td>\n",
       "      <td>50</td>\n",
       "      <td>0</td>\n",
       "      <td>101010</td>\n",
       "      <td>46.95453</td>\n",
       "      <td>0</td>\n",
       "      <td>4</td>\n",
       "      <td>1</td>\n",
       "      <td>0</td>\n",
       "      <td>0</td>\n",
       "      <td>1</td>\n",
       "      <td>19</td>\n",
       "      <td>41</td>\n",
       "      <td>0</td>\n",
       "      <td>0</td>\n",
       "      <td>0.00000</td>\n",
       "      <td>3</td>\n",
       "      <td>0.06898</td>\n",
       "      <td>Normal</td>\n",
       "    </tr>\n",
       "    <tr>\n",
       "      <th>3</th>\n",
       "      <td>101003</td>\n",
       "      <td>50</td>\n",
       "      <td>0</td>\n",
       "      <td>101044</td>\n",
       "      <td>64.85231</td>\n",
       "      <td>0</td>\n",
       "      <td>4</td>\n",
       "      <td>1</td>\n",
       "      <td>0</td>\n",
       "      <td>0</td>\n",
       "      <td>1</td>\n",
       "      <td>16</td>\n",
       "      <td>38</td>\n",
       "      <td>0</td>\n",
       "      <td>0</td>\n",
       "      <td>0.00000</td>\n",
       "      <td>4</td>\n",
       "      <td>0.06673</td>\n",
       "      <td>Normal</td>\n",
       "    </tr>\n",
       "    <tr>\n",
       "      <th>4</th>\n",
       "      <td>101004</td>\n",
       "      <td>50</td>\n",
       "      <td>0</td>\n",
       "      <td>101010</td>\n",
       "      <td>4.83341</td>\n",
       "      <td>0</td>\n",
       "      <td>4</td>\n",
       "      <td>1</td>\n",
       "      <td>0</td>\n",
       "      <td>0</td>\n",
       "      <td>1</td>\n",
       "      <td>25</td>\n",
       "      <td>41</td>\n",
       "      <td>0</td>\n",
       "      <td>0</td>\n",
       "      <td>0.00000</td>\n",
       "      <td>3</td>\n",
       "      <td>0.06534</td>\n",
       "      <td>Normal</td>\n",
       "    </tr>\n",
       "  </tbody>\n",
       "</table>\n",
       "</div>"
      ],
      "text/plain": [
       "       id   Time   Is_CH   who_CH   Dist_To_CH   ADV_S   ADV_R   JOIN_S  \\\n",
       "0  101000     50       1   101000      0.00000       1       0        0   \n",
       "1  101001     50       0   101044     75.32345       0       4        1   \n",
       "2  101002     50       0   101010     46.95453       0       4        1   \n",
       "3  101003     50       0   101044     64.85231       0       4        1   \n",
       "4  101004     50       0   101010      4.83341       0       4        1   \n",
       "\n",
       "    JOIN_R   SCH_S   SCH_R  Rank   DATA_S   DATA_R   Data_Sent_To_BS  \\\n",
       "0       25       1       0     0        0     1200                48   \n",
       "1        0       0       1     2       38        0                 0   \n",
       "2        0       0       1    19       41        0                 0   \n",
       "3        0       0       1    16       38        0                 0   \n",
       "4        0       0       1    25       41        0                 0   \n",
       "\n",
       "    dist_CH_To_BS   send_code   Expaned_Energy Attack_type  \n",
       "0       130.08535            0         2.46940      Normal  \n",
       "1         0.00000            4         0.06957      Normal  \n",
       "2         0.00000            3         0.06898      Normal  \n",
       "3         0.00000            4         0.06673      Normal  \n",
       "4         0.00000            3         0.06534      Normal  "
      ]
     },
     "execution_count": 2,
     "metadata": {},
     "output_type": "execute_result"
    }
   ],
   "source": [
    "df = pd.read_csv('WSN.csv')\n",
    "df.head()"
   ]
  },
  {
   "cell_type": "code",
   "execution_count": 3,
   "id": "d785e357",
   "metadata": {},
   "outputs": [],
   "source": [
    "df=df.dropna()"
   ]
  },
  {
   "cell_type": "code",
   "execution_count": 4,
   "id": "7a0f30c1",
   "metadata": {},
   "outputs": [
    {
     "data": {
      "text/plain": [
       "Index([' id', ' Time', ' Is_CH', ' who_CH', ' Dist_To_CH', ' ADV_S', ' ADV_R',\n",
       "       ' JOIN_S', ' JOIN_R', ' SCH_S', ' SCH_R', 'Rank', ' DATA_S', ' DATA_R',\n",
       "       ' Data_Sent_To_BS', ' dist_CH_To_BS', ' send_code ', 'Expaned_Energy',\n",
       "       'Attack_type'],\n",
       "      dtype='object')"
      ]
     },
     "execution_count": 4,
     "metadata": {},
     "output_type": "execute_result"
    }
   ],
   "source": [
    "df.columns"
   ]
  },
  {
   "cell_type": "code",
   "execution_count": 5,
   "id": "733a16b0",
   "metadata": {},
   "outputs": [],
   "source": [
    "from sklearn.preprocessing import LabelEncoder\n",
    "le = LabelEncoder()\n",
    "\n",
    "var = ['Attack_type']\n",
    "  \n",
    "for i in var:\n",
    "    df[i] = le.fit_transform(df[i]).astype(int)"
   ]
  },
  {
   "cell_type": "code",
   "execution_count": 6,
   "id": "84502bad",
   "metadata": {},
   "outputs": [],
   "source": [
    "df = df.drop_duplicates()"
   ]
  },
  {
   "cell_type": "code",
   "execution_count": 7,
   "id": "3f36a6e4",
   "metadata": {},
   "outputs": [],
   "source": [
    "x1 = df.drop(labels='Attack_type', axis=1)\n",
    "y1 = df.loc[:,'Attack_type']"
   ]
  },
  {
   "cell_type": "code",
   "execution_count": 8,
   "id": "1f62c6c3",
   "metadata": {},
   "outputs": [
    {
     "name": "stderr",
     "output_type": "stream",
     "text": [
      "\n",
      "KeyboardInterrupt\n",
      "\n"
     ]
    }
   ],
   "source": [
    "import imblearn\n",
    "from imblearn.over_sampling import RandomOverSampler\n",
    "from collections import Counter\n",
    "\n",
    "ros =RandomOverSampler(random_state=42)\n",
    "x,y=ros.fit_resample(x1,y1)\n",
    "print(\"OUR DATASET COUNT         : \", Counter(y1))\n",
    "print(\"OVER SAMPLING DATA COUNT  : \", Counter(y))"
   ]
  },
  {
   "cell_type": "code",
   "execution_count": null,
   "id": "4bb6edac",
   "metadata": {},
   "outputs": [],
   "source": [
    "from sklearn.model_selection import train_test_split\n",
    "x_train, x_test, y_train, y_test = train_test_split(x, y, test_size=0.20, random_state=42, stratify=y)\n",
    "print(\"NUMBER OF TRAIN DATASET    : \", len(x_train))\n",
    "print(\"NUMBER OF TEST DATASET      : \", len(x_test))\n",
    "print(\"TOTAL NUMBER OF DATASET    : \", len(x_train)+len(x_test))"
   ]
  },
  {
   "cell_type": "code",
   "execution_count": null,
   "id": "cbb02177",
   "metadata": {},
   "outputs": [],
   "source": [
    "print(\"NUMBER OF TRAIN DATASET    : \", len(y_train))\n",
    "print(\"NUMBER OF TEST DATASET      : \", len(y_test))\n",
    "print(\"TOTAL NUMBER OF DATASET    : \", len(y_train)+len(y_test))"
   ]
  },
  {
   "cell_type": "code",
   "execution_count": null,
   "id": "1fa5db0a",
   "metadata": {},
   "outputs": [],
   "source": [
    "from sklearn.naive_bayes import BernoulliNB"
   ]
  },
  {
   "cell_type": "code",
   "execution_count": null,
   "id": "13c940ce",
   "metadata": {},
   "outputs": [],
   "source": [
    "BNB = BernoulliNB()\n",
    "BNB.fit(x_train,y_train)"
   ]
  },
  {
   "cell_type": "code",
   "execution_count": null,
   "id": "4a749cc7",
   "metadata": {},
   "outputs": [],
   "source": [
    "predicted = BNB.predict(x_test)"
   ]
  },
  {
   "cell_type": "code",
   "execution_count": null,
   "id": "c3cd8937",
   "metadata": {},
   "outputs": [],
   "source": [
    "from sklearn.metrics import classification_report\n",
    "cr = classification_report(y_test,predicted)\n",
    "print('THE CLASSIFICATION REPORT OF BERNOULLINB:\\n\\n',cr)"
   ]
  },
  {
   "cell_type": "code",
   "execution_count": null,
   "id": "d59ff467",
   "metadata": {},
   "outputs": [],
   "source": [
    "from sklearn.metrics import confusion_matrix\n",
    "cm = confusion_matrix(y_test,predicted)\n",
    "print('THE CONFUSION MATRIX SCORE OF BERNOULLINB:\\n\\n\\n',cm)"
   ]
  },
  {
   "cell_type": "code",
   "execution_count": null,
   "id": "69ff65f6",
   "metadata": {},
   "outputs": [],
   "source": [
    "from sklearn.metrics import accuracy_score\n",
    "a = accuracy_score(y_test,predicted)\n",
    "print(\"THE ACCURACY SCORE OF BERNOULLINB IS :\",a*100)"
   ]
  },
  {
   "cell_type": "code",
   "execution_count": null,
   "id": "15d9d0f0",
   "metadata": {},
   "outputs": [],
   "source": [
    "from sklearn.metrics import hamming_loss\n",
    "hl = hamming_loss(y_test,predicted)\n",
    "print(\"THE HAMMING LOSS OF BERNOULLINB IS :\",hl*100)"
   ]
  },
  {
   "cell_type": "code",
   "execution_count": null,
   "id": "140e5feb",
   "metadata": {
    "scrolled": true
   },
   "outputs": [],
   "source": [
    "def plot_confusion_matrix(cm, title='THE CONFUSION MATRIX SCORE OF BERNOULLINB\\n\\n', cmap=plt.cm.cool):\n",
    "    plt.imshow(cm, interpolation='nearest', cmap=cmap)\n",
    "    plt.title(title)\n",
    "    plt.colorbar()\n",
    "\n",
    "cm1=confusion_matrix(y_test, predicted)\n",
    "print('THE CONFUSION MATRIX SCORE OF BERNOULLINB:\\n\\n')\n",
    "print(cm)\n",
    "plot_confusion_matrix(cm)"
   ]
  },
  {
   "cell_type": "code",
   "execution_count": null,
   "id": "ee5774eb",
   "metadata": {},
   "outputs": [],
   "source": [
    "import matplotlib.pyplot as plt\n",
    "df2 = pd.DataFrame()\n",
    "df2[\"y_test\"] = y_test\n",
    "df2[\"predicted\"] = predicted\n",
    "df2.reset_index(inplace=True)\n",
    "plt.figure(figsize=(20, 5))\n",
    "plt.plot(df2[\"predicted\"][:100], marker='x', linestyle='dashed', color='red')\n",
    "plt.plot(df2[\"y_test\"][:100],  marker='o', linestyle='dashed', color='green')\n",
    "plt.show()"
   ]
  }
 ],
 "metadata": {
  "kernelspec": {
   "display_name": "Python 3 (ipykernel)",
   "language": "python",
   "name": "python3"
  },
  "language_info": {
   "codemirror_mode": {
    "name": "ipython",
    "version": 3
   },
   "file_extension": ".py",
   "mimetype": "text/x-python",
   "name": "python",
   "nbconvert_exporter": "python",
   "pygments_lexer": "ipython3",
   "version": "3.11.5"
  }
 },
 "nbformat": 4,
 "nbformat_minor": 5
}
